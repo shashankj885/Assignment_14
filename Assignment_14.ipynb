{
 "cells": [
  {
   "cell_type": "markdown",
   "id": "ee6ec797",
   "metadata": {},
   "source": [
    "Ans1-red, green, blue, and alpha "
   ]
  },
  {
   "cell_type": "markdown",
   "id": "b3ad39a1",
   "metadata": {},
   "source": [
    "Ans2-ImageColor.getcolor()"
   ]
  },
  {
   "cell_type": "markdown",
   "id": "6f76745c",
   "metadata": {},
   "source": [
    "Ans3-box tuple argument means Pillow is expecting a tuple of four integer coordinates that represent a rectangular region in an image. \n",
    "\n",
    "Left: The x-coordinate of the leftmost edge of the box.\n",
    "\n",
    "Top: The y-coordinate of the top edge of the box.\n",
    "\n",
    "Right: The x-coordinate of one pixel to the right of the rightmost edge of the box. This integer must be greater than the left integer.\n",
    "\n",
    "Bottom: The y-coordinate of one pixel lower than the bottom edge of the box. This integer must be greater than the top integer.\n",
    "\n",
    "Example- (3, 1, 9, 6)"
   ]
  },
  {
   "cell_type": "markdown",
   "id": "a8a0dbe6",
   "metadata": {},
   "source": [
    "Ans4 -.size"
   ]
  },
  {
   "cell_type": "markdown",
   "id": "770f356d",
   "metadata": {},
   "source": [
    "Ans5-crop()"
   ]
  },
  {
   "cell_type": "markdown",
   "id": "157ca3e8",
   "metadata": {},
   "source": [
    "Ans6-image.save()\n"
   ]
  },
  {
   "cell_type": "markdown",
   "id": "dfb1cd91",
   "metadata": {},
   "source": [
    "Ans7-ImageDraw.Draw()"
   ]
  },
  {
   "cell_type": "markdown",
   "id": "4833cca7",
   "metadata": {},
   "source": [
    "Ans8-First, we import Image and ImageDraw. Then we create a new image, We pass the Image object to the ImageDraw.Draw() function to receive an ImageDraw object."
   ]
  },
  {
   "cell_type": "markdown",
   "id": "bce37e21",
   "metadata": {},
   "source": []
  },
  {
   "cell_type": "markdown",
   "id": "f38a2bd3",
   "metadata": {},
   "source": []
  },
  {
   "cell_type": "markdown",
   "id": "ef5b91e9",
   "metadata": {},
   "source": []
  }
 ],
 "metadata": {
  "kernelspec": {
   "display_name": "Python 3 (ipykernel)",
   "language": "python",
   "name": "python3"
  },
  "language_info": {
   "codemirror_mode": {
    "name": "ipython",
    "version": 3
   },
   "file_extension": ".py",
   "mimetype": "text/x-python",
   "name": "python",
   "nbconvert_exporter": "python",
   "pygments_lexer": "ipython3",
   "version": "3.9.12"
  }
 },
 "nbformat": 4,
 "nbformat_minor": 5
}
